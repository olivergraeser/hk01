{
 "cells": [
  {
   "cell_type": "markdown",
   "metadata": {},
   "source": [
    "# 0. Importing Basic Libraries, Definitions & Constants"
   ]
  },
  {
   "cell_type": "code",
   "execution_count": 39,
   "metadata": {
    "collapsed": true
   },
   "outputs": [],
   "source": [
    "import numpy as np\n",
    "import pandas as pd\n",
    "from ggplot import *"
   ]
  },
  {
   "cell_type": "code",
   "execution_count": 2,
   "metadata": {
    "collapsed": true
   },
   "outputs": [],
   "source": [
    "import csv\n",
    "import re\n",
    "import jieba.analyse\n",
    "import random\n",
    "import warnings\n",
    "from bs4 import BeautifulSoup\n",
    "from collections import defaultdict"
   ]
  },
  {
   "cell_type": "code",
   "execution_count": 3,
   "metadata": {},
   "outputs": [],
   "source": [
    "random_seed = 64 #Can be anyvalue - but it is important to set one to keep training/holdout set constant\n",
    "relevance_cutoff = 1.8 # required TFIDF value to be included in the relevant token set\n",
    "occurrent_cutoff = 50 #required document occurrence to be included in the relevant token set\n",
    "test_share = 0.4 #share of the holdout sample vs the training sample\n",
    "warnings.filterwarnings('ignore')\n",
    "\n"
   ]
  },
  {
   "cell_type": "markdown",
   "metadata": {},
   "source": [
    "# 1. Preprocessing\n",
    "## 1.1 Loading Training Data (For Input Vectors)"
   ]
  },
  {
   "cell_type": "code",
   "execution_count": 4,
   "metadata": {},
   "outputs": [
    {
     "data": {
      "text/html": [
       "<div>\n",
       "<style>\n",
       "    .dataframe thead tr:only-child th {\n",
       "        text-align: right;\n",
       "    }\n",
       "\n",
       "    .dataframe thead th {\n",
       "        text-align: left;\n",
       "    }\n",
       "\n",
       "    .dataframe tbody tr th {\n",
       "        vertical-align: top;\n",
       "    }\n",
       "</style>\n",
       "<table border=\"1\" class=\"dataframe\">\n",
       "  <thead>\n",
       "    <tr style=\"text-align: right;\">\n",
       "      <th></th>\n",
       "      <th>id</th>\n",
       "      <th>tags</th>\n",
       "      <th>text</th>\n",
       "    </tr>\n",
       "    <tr>\n",
       "      <th>id</th>\n",
       "      <th></th>\n",
       "      <th></th>\n",
       "      <th></th>\n",
       "    </tr>\n",
       "  </thead>\n",
       "  <tbody>\n",
       "    <tr>\n",
       "      <th>3443</th>\n",
       "      <td>3443</td>\n",
       "      <td>足球</td>\n",
       "      <td>利物浦重賽擊敗乙組仔　英足盃過關 英格蘭足總盃第三圈今晨重賽，貴為英超勁旅的利物浦上場被乙組...</td>\n",
       "    </tr>\n",
       "    <tr>\n",
       "      <th>76056</th>\n",
       "      <td>76056</td>\n",
       "      <td>足球</td>\n",
       "      <td>【中超】恒大「暴力戰」絕殺國安　楊智反重力插水惹爭議（有片） 中超首輪賽事重頭戲，廣州恒大主...</td>\n",
       "    </tr>\n",
       "    <tr>\n",
       "      <th>93405</th>\n",
       "      <td>93405</td>\n",
       "      <td>足球</td>\n",
       "      <td>【歐霸決賽】阿積士控球率起腳佔優　隊長卡拉臣輸波不服氣 阿積士以歐洲主要決賽最年輕、平均22...</td>\n",
       "    </tr>\n",
       "    <tr>\n",
       "      <th>26767</th>\n",
       "      <td>26767</td>\n",
       "      <td>足球</td>\n",
       "      <td>【歐國盃】韋莫斯澄清更衣室未內訌　盼以團結力量挫愛爾蘭 今晚3場直播\\r\\r\\nE組｜比利時...</td>\n",
       "    </tr>\n",
       "    <tr>\n",
       "      <th>20843</th>\n",
       "      <td>20843</td>\n",
       "      <td>梁振英</td>\n",
       "      <td>王維基參選　點解？ 王維基在宣布有意出選的記者會上，打出ABC，Anyone But CY的...</td>\n",
       "    </tr>\n",
       "  </tbody>\n",
       "</table>\n",
       "</div>"
      ],
      "text/plain": [
       "          id tags                                               text\n",
       "id                                                                  \n",
       "3443    3443   足球  利物浦重賽擊敗乙組仔　英足盃過關 英格蘭足總盃第三圈今晨重賽，貴為英超勁旅的利物浦上場被乙組...\n",
       "76056  76056   足球  【中超】恒大「暴力戰」絕殺國安　楊智反重力插水惹爭議（有片） 中超首輪賽事重頭戲，廣州恒大主...\n",
       "93405  93405   足球  【歐霸決賽】阿積士控球率起腳佔優　隊長卡拉臣輸波不服氣 阿積士以歐洲主要決賽最年輕、平均22...\n",
       "26767  26767   足球  【歐國盃】韋莫斯澄清更衣室未內訌　盼以團結力量挫愛爾蘭 今晚3場直播\\r\\r\\nE組｜比利時...\n",
       "20843  20843  梁振英  王維基參選　點解？ 王維基在宣布有意出選的記者會上，打出ABC，Anyone But CY的..."
      ]
     },
     "execution_count": 4,
     "metadata": {},
     "output_type": "execute_result"
    }
   ],
   "source": [
    "training_df = pd.read_csv('offsite-test-material/offsite-tagging-training-set.csv', encoding='utf8')\n",
    "training_df.index = training_df['id']\n",
    "training_df.head()"
   ]
  },
  {
   "cell_type": "code",
   "execution_count": 5,
   "metadata": {
    "collapsed": true
   },
   "outputs": [],
   "source": [
    "def remove_html(text):\n",
    "    soup = BeautifulSoup(text, 'html5lib') #remove HTML tokens\n",
    "    text_only = soup.get_text() \n",
    "    text_normal_newline = re.sub(\"\\n\\n+\", \"\\n\", text_only)\n",
    "    text_normal_space = re.sub(\"\\s\\s+\", \" \", text_normal_newline)\n",
    "    return text_normal_space"
   ]
  },
  {
   "cell_type": "code",
   "execution_count": 6,
   "metadata": {},
   "outputs": [
    {
     "data": {
      "text/html": [
       "<div>\n",
       "<style>\n",
       "    .dataframe thead tr:only-child th {\n",
       "        text-align: right;\n",
       "    }\n",
       "\n",
       "    .dataframe thead th {\n",
       "        text-align: left;\n",
       "    }\n",
       "\n",
       "    .dataframe tbody tr th {\n",
       "        vertical-align: top;\n",
       "    }\n",
       "</style>\n",
       "<table border=\"1\" class=\"dataframe\">\n",
       "  <thead>\n",
       "    <tr style=\"text-align: right;\">\n",
       "      <th></th>\n",
       "      <th>id</th>\n",
       "      <th>tags</th>\n",
       "      <th>text</th>\n",
       "      <th>text_clean</th>\n",
       "      <th>clean_length</th>\n",
       "    </tr>\n",
       "    <tr>\n",
       "      <th>id</th>\n",
       "      <th></th>\n",
       "      <th></th>\n",
       "      <th></th>\n",
       "      <th></th>\n",
       "      <th></th>\n",
       "    </tr>\n",
       "  </thead>\n",
       "  <tbody>\n",
       "    <tr>\n",
       "      <th>3443</th>\n",
       "      <td>3443</td>\n",
       "      <td>足球</td>\n",
       "      <td>利物浦重賽擊敗乙組仔　英足盃過關 英格蘭足總盃第三圈今晨重賽，貴為英超勁旅的利物浦上場被乙組...</td>\n",
       "      <td>利物浦重賽擊敗乙組仔　英足盃過關 英格蘭足總盃第三圈今晨重賽，貴為英超勁旅的利物浦上場被乙組...</td>\n",
       "      <td>369</td>\n",
       "    </tr>\n",
       "    <tr>\n",
       "      <th>76056</th>\n",
       "      <td>76056</td>\n",
       "      <td>足球</td>\n",
       "      <td>【中超】恒大「暴力戰」絕殺國安　楊智反重力插水惹爭議（有片） 中超首輪賽事重頭戲，廣州恒大主...</td>\n",
       "      <td>【中超】恒大「暴力戰」絕殺國安　楊智反重力插水惹爭議（有片） 中超首輪賽事重頭戲，廣州恒大主...</td>\n",
       "      <td>631</td>\n",
       "    </tr>\n",
       "    <tr>\n",
       "      <th>93405</th>\n",
       "      <td>93405</td>\n",
       "      <td>足球</td>\n",
       "      <td>【歐霸決賽】阿積士控球率起腳佔優　隊長卡拉臣輸波不服氣 阿積士以歐洲主要決賽最年輕、平均22...</td>\n",
       "      <td>【歐霸決賽】阿積士控球率起腳佔優　隊長卡拉臣輸波不服氣 阿積士以歐洲主要決賽最年輕、平均22...</td>\n",
       "      <td>948</td>\n",
       "    </tr>\n",
       "    <tr>\n",
       "      <th>26767</th>\n",
       "      <td>26767</td>\n",
       "      <td>足球</td>\n",
       "      <td>【歐國盃】韋莫斯澄清更衣室未內訌　盼以團結力量挫愛爾蘭 今晚3場直播\\r\\r\\nE組｜比利時...</td>\n",
       "      <td>【歐國盃】韋莫斯澄清更衣室未內訌　盼以團結力量挫愛爾蘭 今晚3場直播\\nE組｜比利時Vs愛爾...</td>\n",
       "      <td>770</td>\n",
       "    </tr>\n",
       "    <tr>\n",
       "      <th>20843</th>\n",
       "      <td>20843</td>\n",
       "      <td>梁振英</td>\n",
       "      <td>王維基參選　點解？ 王維基在宣布有意出選的記者會上，打出ABC，Anyone But CY的...</td>\n",
       "      <td>王維基參選　點解？ 王維基在宣布有意出選的記者會上，打出ABC，Anyone But CY的...</td>\n",
       "      <td>1239</td>\n",
       "    </tr>\n",
       "  </tbody>\n",
       "</table>\n",
       "</div>"
      ],
      "text/plain": [
       "          id tags                                               text  \\\n",
       "id                                                                     \n",
       "3443    3443   足球  利物浦重賽擊敗乙組仔　英足盃過關 英格蘭足總盃第三圈今晨重賽，貴為英超勁旅的利物浦上場被乙組...   \n",
       "76056  76056   足球  【中超】恒大「暴力戰」絕殺國安　楊智反重力插水惹爭議（有片） 中超首輪賽事重頭戲，廣州恒大主...   \n",
       "93405  93405   足球  【歐霸決賽】阿積士控球率起腳佔優　隊長卡拉臣輸波不服氣 阿積士以歐洲主要決賽最年輕、平均22...   \n",
       "26767  26767   足球  【歐國盃】韋莫斯澄清更衣室未內訌　盼以團結力量挫愛爾蘭 今晚3場直播\\r\\r\\nE組｜比利時...   \n",
       "20843  20843  梁振英  王維基參選　點解？ 王維基在宣布有意出選的記者會上，打出ABC，Anyone But CY的...   \n",
       "\n",
       "                                              text_clean  clean_length  \n",
       "id                                                                      \n",
       "3443   利物浦重賽擊敗乙組仔　英足盃過關 英格蘭足總盃第三圈今晨重賽，貴為英超勁旅的利物浦上場被乙組...           369  \n",
       "76056  【中超】恒大「暴力戰」絕殺國安　楊智反重力插水惹爭議（有片） 中超首輪賽事重頭戲，廣州恒大主...           631  \n",
       "93405  【歐霸決賽】阿積士控球率起腳佔優　隊長卡拉臣輸波不服氣 阿積士以歐洲主要決賽最年輕、平均22...           948  \n",
       "26767  【歐國盃】韋莫斯澄清更衣室未內訌　盼以團結力量挫愛爾蘭 今晚3場直播\\nE組｜比利時Vs愛爾...           770  \n",
       "20843  王維基參選　點解？ 王維基在宣布有意出選的記者會上，打出ABC，Anyone But CY的...          1239  "
      ]
     },
     "execution_count": 6,
     "metadata": {},
     "output_type": "execute_result"
    }
   ],
   "source": [
    "training_df['text_clean'] = training_df.apply(lambda _: remove_html(_['text']), axis=1)\n",
    "training_df['clean_length'] = training_df.apply(lambda _: len(_['text_clean']), axis=1)\n",
    "training_df.head()"
   ]
  },
  {
   "cell_type": "code",
   "execution_count": 7,
   "metadata": {},
   "outputs": [
    {
     "data": {
      "text/html": [
       "<div>\n",
       "<style>\n",
       "    .dataframe thead tr:only-child th {\n",
       "        text-align: right;\n",
       "    }\n",
       "\n",
       "    .dataframe thead th {\n",
       "        text-align: left;\n",
       "    }\n",
       "\n",
       "    .dataframe tbody tr th {\n",
       "        vertical-align: top;\n",
       "    }\n",
       "</style>\n",
       "<table border=\"1\" class=\"dataframe\">\n",
       "  <thead>\n",
       "    <tr style=\"text-align: right;\">\n",
       "      <th></th>\n",
       "      <th>char_cnt</th>\n",
       "      <th>record_cnt</th>\n",
       "      <th>label_id</th>\n",
       "    </tr>\n",
       "    <tr>\n",
       "      <th>tags</th>\n",
       "      <th></th>\n",
       "      <th></th>\n",
       "      <th></th>\n",
       "    </tr>\n",
       "  </thead>\n",
       "  <tbody>\n",
       "    <tr>\n",
       "      <th>梁振英</th>\n",
       "      <td>868598</td>\n",
       "      <td>929</td>\n",
       "      <td>0</td>\n",
       "    </tr>\n",
       "    <tr>\n",
       "      <th>美國大選</th>\n",
       "      <td>972470</td>\n",
       "      <td>842</td>\n",
       "      <td>1</td>\n",
       "    </tr>\n",
       "    <tr>\n",
       "      <th>足球</th>\n",
       "      <td>1672172</td>\n",
       "      <td>2123</td>\n",
       "      <td>2</td>\n",
       "    </tr>\n",
       "  </tbody>\n",
       "</table>\n",
       "</div>"
      ],
      "text/plain": [
       "      char_cnt  record_cnt  label_id\n",
       "tags                                \n",
       "梁振英     868598         929         0\n",
       "美國大選    972470         842         1\n",
       "足球     1672172        2123         2"
      ]
     },
     "execution_count": 7,
     "metadata": {},
     "output_type": "execute_result"
    }
   ],
   "source": [
    "def process_group(row):\n",
    "    return pd.Series(dict(char_cnt=row['clean_length'].sum(), record_cnt=row.clean_length.count()))\n",
    "labels_df = pd.DataFrame(training_df.groupby(['tags']).apply(process_group))\n",
    "labels_df['label_id'] = pd.Categorical(labels_df.index).codes\n",
    "label_dict = {a: b.label_id for a, b in labels_df.iterrows()}\n",
    "label_id_dict = {b.label_id: a for a, b in labels_df.iterrows()}\n",
    "labels = list(label_dict.keys())\n",
    "labels_df.head()\n"
   ]
  },
  {
   "cell_type": "markdown",
   "metadata": {},
   "source": [
    "## 1.2 Loading Data (For Frequency Analysis)"
   ]
  },
  {
   "cell_type": "code",
   "execution_count": 8,
   "metadata": {
    "collapsed": true
   },
   "outputs": [],
   "source": [
    "text_dict = defaultdict(list)\n",
    "with open('offsite-test-material/offsite-tagging-training-set.csv', 'r', encoding='utf8') as f:\n",
    "    file_reader = csv.reader(f, delimiter=',', quotechar='\"')\n",
    "    next(file_reader)\n",
    "    for row in file_reader:\n",
    "        text_dict[row[1]].append(remove_html(row[2]))\n",
    "\n",
    "fulltext_dict = {k: '\\n'.join([_ for _ in v]) for k, v in text_dict.items()}"
   ]
  },
  {
   "cell_type": "code",
   "execution_count": 9,
   "metadata": {},
   "outputs": [
    {
     "name": "stdout",
     "output_type": "stream",
     "text": [
      "Found the following categories:\n",
      "足球: 2123 fragments with 1674294 characters\n",
      "梁振英: 929 fragments with 869526 characters\n",
      "美國大選: 842 fragments with 973311 characters\n"
     ]
    }
   ],
   "source": [
    "print('Found the following categories:\\n{}'.format('\\n'.join(['{}: {} fragments with {} characters'\n",
    "                                                               .format(k, len(text_dict[k]), len(fulltext_dict[k]))\n",
    "                                                               for k in text_dict.keys() ])))"
   ]
  },
  {
   "cell_type": "markdown",
   "metadata": {},
   "source": [
    "This means that we have twice the frequency of articles related to soccer than to either the outgoing CE or US elections. This is a bit tricky in terms of maximum TF-IDF"
   ]
  },
  {
   "cell_type": "markdown",
   "metadata": {},
   "source": [
    "## 1.2 Selecting most relevant tokens\n",
    "I am building a TD-IDF-esque model, for which I will select the most 'relevant' tokens as features. Relevance here is defined as the highest ratio of frequency in the relevant 'term' over the frequency in the overall 'document'. A 'term' here is the union of all segments that belong to a single categroy. The document is the union of all segments"
   ]
  },
  {
   "cell_type": "code",
   "execution_count": 10,
   "metadata": {
    "collapsed": true
   },
   "outputs": [],
   "source": [
    "#dictionary for occurrence of short tokens in each classified doc\n",
    "labeldicts_short = {_: (defaultdict(float), 0) for _ in labels} \n",
    "#dictionary for occurrence of long tokens in each classified doc\n",
    "labeldicts_long = {_: (defaultdict(float), 0) for _ in labels} \n",
    "# dictionary for occurrence of short tokens in the whole document\n",
    "docdict_short = defaultdict(float), 0 \n",
    "# dictionary for occurrence of long tokens in the whole document\n",
    "docdict_long = defaultdict(float), 0\n"
   ]
  },
  {
   "cell_type": "code",
   "execution_count": 11,
   "metadata": {},
   "outputs": [
    {
     "name": "stderr",
     "output_type": "stream",
     "text": [
      "Building prefix dict from the default dictionary ...\n",
      "Loading model from cache /var/folders/9d/qql6_x6575d88_7f44mgptw40000gp/T/jieba.cache\n",
      "Loading model cost 0.864 seconds.\n",
      "Prefix dict has been built succesfully.\n"
     ]
    }
   ],
   "source": [
    "# Counting token frequency\n",
    "training_clean = list()\n",
    "for label, combined_text in fulltext_dict.items():\n",
    "    short_tokens = jieba.cut(combined_text, cut_all=True)\n",
    "    for token in short_tokens:\n",
    "        labeldicts_short[label][0][token] += 1\n",
    "        docdict_short[0][token] += 1\n",
    "        \n",
    "    long_tokens = jieba.cut(combined_text, cut_all=False)\n",
    "    for token in long_tokens:\n",
    "        labeldicts_long[label][0][token] += 1\n",
    "        docdict_long[0][token] += 1\n",
    "        \n",
    "        \n"
   ]
  },
  {
   "cell_type": "code",
   "execution_count": 12,
   "metadata": {
    "collapsed": true
   },
   "outputs": [],
   "source": [
    "# Calculating term/document length\n",
    "for label in labels:\n",
    "    labeldicts_long[label] = labeldicts_long[label][0], sum(labeldicts_long[label][0].values())\n",
    "    labeldicts_short[label] = labeldicts_short[label][0], sum(labeldicts_short[label][0].values())\n",
    "    \n",
    "docdict_long = docdict_long[0], sum(docdict_long[0].values())\n",
    "docdict_short = docdict_short[0], sum(docdict_short[0].values())\n"
   ]
  },
  {
   "cell_type": "code",
   "execution_count": 13,
   "metadata": {},
   "outputs": [
    {
     "data": {
      "text/plain": [
       "(2.0907319330176026, 29.0, 29.0)"
      ]
     },
     "execution_count": 13,
     "metadata": {},
     "output_type": "execute_result"
    }
   ],
   "source": [
    "# helper function that returns the highest TFIDF of a token. \n",
    "# highly relevant tokens will have maximum TDIDFs of 2-3,  \n",
    "# they exclusively occur in fragments of one class, but the size of the term length differs\n",
    "# irrelevant tokens will have uniform TFIDFs of 1 (they occur everywhere with the same frequencyy)\n",
    "def relative_frequency(token, classdicts, docdict, docdict_total=None):\n",
    "    occurrences = [(classdict[0][token], classdict[1]) for classdict in classdicts if token in classdict[0]]\n",
    "    if occurrences:\n",
    "        max_occurence, term_length = max(occurrences, key=lambda _: _[0]/_[1])\n",
    "        total_occurrence, doc_length  = docdict[0][token], docdict[1]\n",
    "        tf = (max_occurence/term_length)\n",
    "        df = (total_occurrence/doc_length)\n",
    "        return (tf/df, max_occurence, total_occurrence)\n",
    "    else:\n",
    "        print(token)\n",
    "        return 0, 0, docdict[0].get(token, 0)\n",
    "\n",
    "relative_frequency('重賽', labeldicts_long.values(), docdict_long)"
   ]
  },
  {
   "cell_type": "code",
   "execution_count": 14,
   "metadata": {
    "collapsed": true
   },
   "outputs": [],
   "source": [
    "short_classdicts = labeldicts_short.values()\n",
    "long_classdicts = labeldicts_long.values()\n",
    "maxfreq_short = {key: relative_frequency(key, short_classdicts, docdict_short) for key in docdict_short[0].keys()}\n",
    "maxfreq_long = {key: relative_frequency(key, long_classdicts, docdict_long) for key in docdict_long[0].keys()}"
   ]
  },
  {
   "cell_type": "code",
   "execution_count": 15,
   "metadata": {
    "collapsed": true
   },
   "outputs": [],
   "source": [
    "relevant_tokens_short_list = sorted([key for key, value in maxfreq_short.items() \n",
    "                                     if (value[0] > relevance_cutoff and\n",
    "                                         value[2] > occurrent_cutoff and\n",
    "                                         key.isalpha())])\n",
    "\n",
    "relevant_tokens_long_list = sorted([key for key, value in maxfreq_long.items() \n",
    "                                    if (value[0] > relevance_cutoff and\n",
    "                                        value[2] > occurrent_cutoff and\n",
    "                                        key.isalpha())])"
   ]
  },
  {
   "cell_type": "markdown",
   "metadata": {},
   "source": [
    "## 1.3 Creating Training Data"
   ]
  },
  {
   "cell_type": "code",
   "execution_count": 16,
   "metadata": {
    "collapsed": true
   },
   "outputs": [],
   "source": [
    "def sentence_to_vector(sentence, tokenlist, cut_all=False):\n",
    "    a = defaultdict(int)\n",
    "    tokens = jieba.cut(sentence, cut_all=cut_all)\n",
    "    for token in tokens:\n",
    "        a[token] += 1\n",
    "    out_dict = {_: a.get(_, 0) for _ in tokenlist}\n",
    "    return pd.Series(out_dict)\n",
    "\n",
    "occ_input_long = pd.DataFrame(training_df.text_clean.apply(\n",
    "    lambda _: sentence_to_vector(_, relevant_tokens_long_list)))\n",
    "\n",
    "occ_input_short = pd.DataFrame(training_df.text_clean.apply(\n",
    "    lambda _: sentence_to_vector(_, relevant_tokens_short_list, cut_all=True)))\n",
    "\n",
    "data_target = pd.DataFrame(training_df.merge(labels_df, how='inner', left_on='tags', right_index=True)['label_id'])    "
   ]
  },
  {
   "cell_type": "code",
   "execution_count": 17,
   "metadata": {
    "collapsed": true
   },
   "outputs": [],
   "source": [
    "indices = list(occ_input_long.index)\n",
    "random.seed(random_seed)\n",
    "test_indices = random.sample(indices, int(len(indices)*test_share))\n",
    "train_indices = [_ for _ in indices if _ not in test_indices]\n",
    "training_data_long = occ_input_long.loc[train_indices]\n",
    "training_data_short = occ_input_short.loc[train_indices]\n",
    "holdout_data_long = occ_input_long.loc[test_indices]\n",
    "holdout_data_short = occ_input_short.loc[test_indices]\n",
    "training_target = data_target.loc[train_indices]\n",
    "holdout_target = data_target.loc[test_indices]\n"
   ]
  },
  {
   "cell_type": "markdown",
   "metadata": {
    "collapsed": true
   },
   "source": [
    "# 2. Training Models\n",
    "## 2.0 Imports & Definitions"
   ]
  },
  {
   "cell_type": "code",
   "execution_count": 18,
   "metadata": {
    "collapsed": true
   },
   "outputs": [],
   "source": [
    "from sklearn.ensemble import RandomForestClassifier, GradientBoostingClassifier\n",
    "from sklearn.metrics import accuracy_score\n",
    "from sklearn.metrics.pairwise import cosine_similarity\n",
    "from sklearn.svm import SVC\n"
   ]
  },
  {
   "cell_type": "code",
   "execution_count": 19,
   "metadata": {
    "collapsed": true
   },
   "outputs": [],
   "source": [
    "def explain_misclassification(id_, prediction, holdout):\n",
    "    relevant_text = training_df.loc[id_]['text_clean']\n",
    "    provided_label = training_df.loc[id_]['tags']\n",
    "    predicted_label = label_id_dict[prediction[holdout.index.get_loc(id_)]]\n",
    "    print('The following text was classified as {0}, but labelled as {1}:\\n{2}'\n",
    "          .format(predicted_label, provided_label, relevant_text))"
   ]
  },
  {
   "cell_type": "markdown",
   "metadata": {},
   "source": [
    "# 2.1 Standard RandomForest Classifier"
   ]
  },
  {
   "cell_type": "code",
   "execution_count": 20,
   "metadata": {},
   "outputs": [
    {
     "name": "stdout",
     "output_type": "stream",
     "text": [
      "A RandomForest Classifier reached an accuracy score of 0.9878 for short tokens.\n",
      "This means that a total of 19 fragments (out of 1557 fragments in the holdout sample) was misclassified.\n",
      "The misclassified ids are:\n",
      "7577, 14520, 14792, 16808, 18804, 23475, 34055, 46144, 46523, 47016, 50270, 50791, 50996, 54062, 54209, 58992, 60373, 66457, 70547\n"
     ]
    }
   ],
   "source": [
    "RFC_short = RandomForestClassifier()\n",
    "RFC_short.fit(np.asarray(training_data_short), np.asarray(training_target).ravel())\n",
    "rfc_prediction_short = RFC_short.predict(np.asarray(holdout_data_short))\n",
    "misclassified_ids_short = list(sorted(holdout_target[rfc_prediction_short!=holdout_target['label_id']].index))\n",
    "print('A RandomForest Classifier reached an accuracy score of {0:.4f} for short tokens.\\nThis means that a total of {1}'\n",
    "      ' fragments (out of {2} fragments in the holdout sample) was misclassified.\\nThe misclassified ids are:\\n{3}'\n",
    "      .format(accuracy_score(rfc_prediction_short, holdout_target),\n",
    "              len(misclassified_ids_short),\n",
    "              len(holdout_target),\n",
    "             ', '.join(str(_) for _ in misclassified_ids_short)))"
   ]
  },
  {
   "cell_type": "code",
   "execution_count": 21,
   "metadata": {},
   "outputs": [
    {
     "name": "stdout",
     "output_type": "stream",
     "text": [
      "A RandomForest Classifier reached an accuracy score of 0.9923 for long tokens.\n",
      "This means that a total of 12 fragments (out of 1557 fragments in the holdout sample) was misclassified.\n",
      "The misclassified ids are:\n",
      "16808, 46144, 50799, 14792, 18804, 54209, 60373, 47016, 2079, 17383, 14520, 70547\n"
     ]
    }
   ],
   "source": [
    "RFC_long = RandomForestClassifier()\n",
    "RFC_long.fit(np.asarray(training_data_long), np.asarray(training_target).ravel())\n",
    "rfc_prediction_long = RFC_long.predict(np.asarray(holdout_data_long))\n",
    "misclassified_ids_long = list(holdout_target[rfc_prediction_long!=holdout_target['label_id']].index)\n",
    "print('A RandomForest Classifier reached an accuracy score of {0:.4f} for long tokens.\\nThis means that a total of {1}'\n",
    "      ' fragments (out of {2} fragments in the holdout sample) was misclassified.\\nThe misclassified ids are:\\n{3}'\n",
    "      .format(accuracy_score(rfc_prediction_long, holdout_target),\n",
    "              len(misclassified_ids_long),\n",
    "              len(holdout_target),\n",
    "             ', '.join(str(_) for _ in misclassified_ids_long)))"
   ]
  },
  {
   "cell_type": "code",
   "execution_count": 22,
   "metadata": {},
   "outputs": [],
   "source": [
    "misclassified_id = misclassified_ids_short[0]\n",
    "#explain_misclassification(misclassified_id, rfc_prediction_short, holdout_target)"
   ]
  },
  {
   "cell_type": "markdown",
   "metadata": {},
   "source": [
    "## 2.2 Gradient Boosted Classifier (Standard SkLearn)"
   ]
  },
  {
   "cell_type": "code",
   "execution_count": 23,
   "metadata": {},
   "outputs": [
    {
     "name": "stdout",
     "output_type": "stream",
     "text": [
      "A GradientBoosted tree ensemble Classifier reached an accuracy score of 0.9917 for short tokens.\n",
      "This means that a total of 13 fragments (out of 1557 fragments in the holdout sample) was misclassified.\n",
      "The misclassified ids are:\n",
      "2079, 14792, 16808, 18804, 25686, 33085, 41069, 46144, 46523, 50791, 58992, 80645, 92519\n"
     ]
    }
   ],
   "source": [
    "GBC_short = GradientBoostingClassifier()\n",
    "GBC_short.fit(np.asarray(training_data_short), np.asarray(training_target).ravel())\n",
    "gbc_prediction_short = GBC_short.predict(np.asarray(holdout_data_short))\n",
    "misclassified_ids_short = list(sorted(holdout_target[gbc_prediction_short!=holdout_target['label_id']].index))\n",
    "print('A GradientBoosted tree ensemble Classifier reached an accuracy score of {0:.4f} for short tokens.'\n",
    "      '\\nThis means that a total of {1}'\n",
    "      ' fragments (out of {2} fragments in the holdout sample) was misclassified.\\nThe misclassified ids are:\\n{3}'\n",
    "      .format(accuracy_score(gbc_prediction_short, holdout_target),\n",
    "              len(misclassified_ids_short),\n",
    "              len(holdout_target),\n",
    "             ', '.join(str(_) for _ in misclassified_ids_short)))"
   ]
  },
  {
   "cell_type": "code",
   "execution_count": 24,
   "metadata": {},
   "outputs": [
    {
     "name": "stdout",
     "output_type": "stream",
     "text": [
      "A GradientBoosted tree ensemble Classifier reached an accuracy score of 0.9865 for long tokens.\n",
      "This means that a total of 21 fragments (out of 1557 fragments in the holdout sample) was misclassified.\n",
      "The misclassified ids are:\n",
      "5375, 13491, 14792, 16808, 17383, 18804, 19411, 25686, 33085, 40679, 45215, 46144, 46523, 46728, 54062, 54187, 54209, 60373, 66438, 80645, 92519\n"
     ]
    }
   ],
   "source": [
    "GBC_long = GradientBoostingClassifier()\n",
    "GBC_long.fit(np.asarray(training_data_long), np.asarray(training_target).ravel())\n",
    "gbc_prediction_long = GBC_long.predict(np.asarray(holdout_data_long))\n",
    "misclassified_ids_long = list(sorted(holdout_target[gbc_prediction_long!=holdout_target['label_id']].index))\n",
    "print('A GradientBoosted tree ensemble Classifier reached an accuracy score of {0:.4f} for long tokens.'\n",
    "      '\\nThis means that a total of {1}'\n",
    "      ' fragments (out of {2} fragments in the holdout sample) was misclassified.\\nThe misclassified ids are:\\n{3}'\n",
    "      .format(accuracy_score(gbc_prediction_long, holdout_target),\n",
    "              len(misclassified_ids_long),\n",
    "              len(holdout_target),\n",
    "             ', '.join(str(_) for _ in misclassified_ids_long)))"
   ]
  },
  {
   "cell_type": "code",
   "execution_count": 25,
   "metadata": {
    "collapsed": true
   },
   "outputs": [],
   "source": [
    "misclassified_id = misclassified_ids_long[0]\n",
    "#explain_misclassification(misclassified_id, gbc_prediction_long, holdout_target)"
   ]
  },
  {
   "cell_type": "markdown",
   "metadata": {},
   "source": [
    "## 2.3 Support Vector Machine with Cosine Similarity Kernel"
   ]
  },
  {
   "cell_type": "code",
   "execution_count": 26,
   "metadata": {},
   "outputs": [
    {
     "name": "stdout",
     "output_type": "stream",
     "text": [
      "A SupportVectorMachine with CosineSimilarity kernel reached an accuracy score of 0.9968 for short tokens.\n",
      "This means that a total of 5 fragments (out of 1557 fragments in the holdout sample) was misclassified.\n",
      "The misclassified ids are:\n",
      "2079, 14792, 17691, 46523, 70547\n"
     ]
    }
   ],
   "source": [
    "svc_short = SVC(kernel=cosine_similarity)\n",
    "svc_short.fit(np.asarray(training_data_short), np.asarray(training_target).ravel())\n",
    "svc_prediction_short = svc_short.predict(np.asarray(holdout_data_short))\n",
    "misclassified_ids_short = list(sorted(holdout_target[svc_prediction_short!=holdout_target['label_id']].index))\n",
    "print('A SupportVectorMachine with CosineSimilarity kernel reached an accuracy score of {0:.4f} for short tokens.'\n",
    "      '\\nThis means that a total of {1}'\n",
    "      ' fragments (out of {2} fragments in the holdout sample) was misclassified.\\nThe misclassified ids are:\\n{3}'\n",
    "      .format(accuracy_score(svc_prediction_short, holdout_target),\n",
    "              len(misclassified_ids_short),\n",
    "              len(holdout_target),\n",
    "             ', '.join(str(_) for _ in misclassified_ids_short)))"
   ]
  },
  {
   "cell_type": "code",
   "execution_count": 27,
   "metadata": {},
   "outputs": [
    {
     "name": "stdout",
     "output_type": "stream",
     "text": [
      "A SupportVectorMachine with CosineSimilarity kernel reached an accuracy score of 0.9949 for long tokens.\n",
      "This means that a total of 8 fragments (out of 1557 fragments in the holdout sample) was misclassified.\n",
      "The misclassified ids are:\n",
      "2079, 14792, 17691, 23475, 46144, 46523, 54187, 84964\n"
     ]
    }
   ],
   "source": [
    "svc_long = SVC(kernel=cosine_similarity)\n",
    "svc_long.fit(np.asarray(training_data_long), np.asarray(training_target).ravel())\n",
    "svc_prediction_long = svc_long.predict(np.asarray(holdout_data_long))\n",
    "misclassified_ids_long = list(sorted(holdout_target[svc_prediction_long!=holdout_target['label_id']].index))\n",
    "print('A SupportVectorMachine with CosineSimilarity kernel reached an accuracy score of {0:.4f} for long tokens.'\n",
    "      '\\nThis means that a total of {1}'\n",
    "      ' fragments (out of {2} fragments in the holdout sample) was misclassified.\\nThe misclassified ids are:\\n{3}'\n",
    "      .format(accuracy_score(svc_prediction_long, holdout_target),\n",
    "              len(misclassified_ids_long),\n",
    "              len(holdout_target),\n",
    "             ', '.join(str(_) for _ in misclassified_ids_long)))"
   ]
  },
  {
   "cell_type": "code",
   "execution_count": 28,
   "metadata": {
    "collapsed": true
   },
   "outputs": [],
   "source": [
    "misclassified_id = misclassified_ids_short[0]\n",
    "#explain_misclassification(misclassified_id, svc_prediction_short, holdout_target)"
   ]
  },
  {
   "cell_type": "markdown",
   "metadata": {
    "collapsed": true
   },
   "source": [
    "# 3. Analysis \n",
    "The overall classification results are satifactory - the overwhelming number of fragments in the holdout sample are recognised correctly, even for the chosen large holdout sample and the default model parameters. This is likely due to the very different natur of the chosen tags (A cursory glance on the misclassified IDs reveals that the misclassified fragments do not appear to fall clearly into one of the given categories) \n",
    "\n",
    "For the predictions on the provided test sample (see below) I have chosen the support vector model (2.3). \n",
    "\n"
   ]
  },
  {
   "cell_type": "markdown",
   "metadata": {
    "collapsed": true
   },
   "source": [
    "## 3.1 Questions\n",
    "### Question 1 How well does your model perform?\n",
    "Better than any other model I built so far ;)\n",
    "### Quenstion 2 How did you choose the parameters of the final model?\n",
    "For feature search, I simply followed my own guesstimate with regards to the minimum occurrence and pairwise mutual information required for a token to be included in the feature-token-list. For the model parameters, I initially chose the default parameters. As this approach already yielded a very high degree of accuracy, I skipped parameter tuning since any possible improvement would be statistically insignificant. \n",
    "### Question 3 On a high level, please explain your final model’s structure, and how it predicts tags\n",
    "In a nutshell, I selected a set of N jieba-generated tokens that have high pairwise-mutual information between the three topics. Each fragment is then represented by an N-dimensional vector where each dimension corresponds to the number of occurences of token $n \\in N$ in the fragment. A new fragment is then associated with the tag of the fragment closest to it, with closeness here defined as length of the (normalised) new fragment vector projected onto the known training fragment vectors.\n"
   ]
  },
  {
   "cell_type": "markdown",
   "metadata": {
    "collapsed": true
   },
   "source": [
    "## 3.2 Predictions"
   ]
  },
  {
   "cell_type": "code",
   "execution_count": 34,
   "metadata": {},
   "outputs": [],
   "source": [
    "# Preparation of the official holdout sample\n",
    "test_df = pd.read_csv('offsite-test-material/offsite-tagging-test-set.csv', encoding='utf8')\n",
    "test_df.index = test_df['id']\n",
    "test_df['text_clean'] = test_df.apply(lambda _: remove_html(_['text']), axis=1)\n",
    "test_input = pd.DataFrame(test_df.text_clean.apply(lambda _: sentence_to_vector(_, relevant_tokens_short_list)))\n",
    "#test_input.head()"
   ]
  },
  {
   "cell_type": "code",
   "execution_count": 35,
   "metadata": {},
   "outputs": [],
   "source": [
    "#Training an additional model based on the whole training set\n",
    "submission_model = SVC(kernel=cosine_similarity)\n",
    "submission_model.fit(np.asarray(occ_input_short.loc[indices]), np.asarray(data_target.loc[indices]).ravel())\n",
    "submission = submission_model.predict(np.asarray(test_input))\n",
    "submission_confidence = submission_model.decision_function(np.asarray(test_input))\n",
    "test_df['submission_prediction_id'] = submission\n"
   ]
  },
  {
   "cell_type": "code",
   "execution_count": 36,
   "metadata": {},
   "outputs": [],
   "source": [
    "#Prediction based on the training sample without the holdout sample\n",
    "training_prediction = svc_short.predict(np.asarray(test_input))\n",
    "training_confidence = svc_short.decision_function(np.asarray(test_input))\n",
    "test_df['training_prediction_id'] = training_prediction"
   ]
  },
  {
   "cell_type": "code",
   "execution_count": 43,
   "metadata": {},
   "outputs": [
    {
     "name": "stdout",
     "output_type": "stream",
     "text": [
      "Models disagree for 6 fragments\n"
     ]
    }
   ],
   "source": [
    "disagreement_indices = test_df[test_df['submission_prediction_id'] != test_df['training_prediction_id']].index\n",
    "print('Models disagree for {} fragments'.format(len(disagreement_indices)))"
   ]
  },
  {
   "cell_type": "markdown",
   "metadata": {},
   "source": [
    "### 3.2.1 Output"
   ]
  },
  {
   "cell_type": "code",
   "execution_count": 52,
   "metadata": {},
   "outputs": [],
   "source": [
    "test_df['tags'] = test_df.submission_prediction_id.apply(lambda _: label_id_dict[_])\n",
    "out_df = test_df[['text','tags']]\n",
    "out_df.to_csv('offsite-tagged-test-set.csv', encoding='utf8')\n"
   ]
  },
  {
   "cell_type": "markdown",
   "metadata": {},
   "source": [
    "### 3.2.2 Brief Discussion of Confidence\n",
    "As discussed above, both models - the one trained on the entire training data, and the one trained without the holdout sample - overwhelmingly agree on the conclusion. However, it helps to check the decision function of the model. `SVC` models create decision boundaries between each possible pair among the allowed classes, i.e., here between _足球_, _梁振英_ and _美國大選_. The `decision_function` returns an array that gives the computed oriented distance of the fragment from the decision boundary. Points closer to the boundary are more ambiguous. Measuring the minimum absolute distance for each fragment is therefore a measure of the confidence of the prediction. The distribution of this measure over the test set is shown in the two histograms below"
   ]
  },
  {
   "cell_type": "code",
   "execution_count": 48,
   "metadata": {},
   "outputs": [],
   "source": [
    "def minvalcol(row):\n",
    "    return min([abs(row[i]) for i in [0,1,2]])\n",
    "test_df['minval_s'] = np.asarray(pd.DataFrame(submission_confidence).apply(minvalcol, axis=1))\n",
    "test_df['minval_t'] = np.asarray(pd.DataFrame(training_confidence).apply(minvalcol, axis=1))"
   ]
  },
  {
   "cell_type": "code",
   "execution_count": 40,
   "metadata": {},
   "outputs": [
    {
     "data": {
      "image/png": "[encoded data removed]",
      "text/plain": [
       "<matplotlib.figure.Figure at 0x1125d2f98>"
      ]
     },
     "metadata": {},
     "output_type": "display_data"
    },
    {
     "data": {
      "text/plain": [
       "<ggplot: (287691447)>"
      ]
     },
     "execution_count": 40,
     "metadata": {},
     "output_type": "execute_result"
    }
   ],
   "source": [
    "p = ggplot(aes(x='minval_t'), data=test_df)\n",
    "p + geom_histogram(binwidth=.05)\n"
   ]
  },
  {
   "cell_type": "code",
   "execution_count": 42,
   "metadata": {},
   "outputs": [
    {
     "data": {
      "image/png": "[encoded data removed]",
      "text/plain": [
       "<matplotlib.figure.Figure at 0x10e544b00>"
      ]
     },
     "metadata": {},
     "output_type": "display_data"
    },
    {
     "data": {
      "text/plain": [
       "<ggplot: (-9223372036571315084)>"
      ]
     },
     "execution_count": 42,
     "metadata": {},
     "output_type": "execute_result"
    }
   ],
   "source": [
    "v = ggplot(aes(x='minval_s'), data=test_df)\n",
    "v + geom_histogram(binwidth=.05,alpha=.5) "
   ]
  },
  {
   "cell_type": "code",
   "execution_count": null,
   "metadata": {},
   "outputs": [],
   "source": [
    "df"
   ]
  },
  {
   "cell_type": "code",
   "execution_count": null,
   "metadata": {
    "collapsed": true
   },
   "outputs": [],
   "source": []
  }
 ],
 "metadata": {
  "kernelspec": {
   "display_name": "Python 3",
   "language": "python",
   "name": "python3"
  },
  "language_info": {
   "codemirror_mode": {
    "name": "ipython",
    "version": 3
   },
   "file_extension": ".py",
   "mimetype": "text/x-python",
   "name": "python",
   "nbconvert_exporter": "python",
   "pygments_lexer": "ipython3",
   "version": "3.6.2"
  }
 },
 "nbformat": 4,
 "nbformat_minor": 2
}
